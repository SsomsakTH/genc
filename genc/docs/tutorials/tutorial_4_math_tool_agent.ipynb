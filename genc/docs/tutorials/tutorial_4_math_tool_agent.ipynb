{
  "cells": [
    {
      "cell_type": "markdown",
      "metadata": {
        "id": "mNUkaZyeP8y4"
      },
      "source": [
        "# Tutorial 4: Math Tool Agent\n",
        "\n",
        "Large Language Models (LLMs) can serve as orchestrators, often referred to as\n",
        "agents. In this tutorial, we will guide you step-by-step on how to blend\n",
        "reasoning with the practical use of tools using GenC.\n",
        "\n",
        "The `MathToolAgent` integrates reasoning with math tool. We will employ the\n",
        "following components:\n",
        "\n",
        "*   `ReAct` and `RepeatedConditionalChain` for facilitating the reasoning loop,\n",
        "    enabling dynamic decision-making.\n",
        "*   `RestCall`, accompanied by `parsers`, to illustrate making model calls and\n",
        "    handling json request and response.\n",
        "*   `LocalCache` is used to as a memory to recorde model interaction history.\n",
        "*   `WolframAlpha` is utilized as a tool for answering mathematical queries.\n",
        "\n",
        "This example is meant to demonstrate the essential ingredients to build and\n",
        "experiment with agents. For production, a more robust prompt engineering is\n",
        "necessary."
      ]
    },
    {
      "cell_type": "markdown",
      "metadata": {
        "id": "-ALmaMr7XF7Y"
      },
      "source": [
        "## Initial Setup\n",
        "\n",
        "Before proceeding, please follow the instructions in\n",
        "[Tutorial 1](https://github.com/google/genc/tree/master/genc/docs/tutorials/tutorial_1_simple_cascade.ipynb)\n",
        "to set up your environment, connect Jupyter, and run the command below to run\n",
        "the GenC imports we're going to use."
      ]
    },
    {
      "cell_type": "code",
      "execution_count": null,
      "metadata": {
        "id": "6Zg4Jqs6XGJA"
      },
      "outputs": [],
      "source": [
        "import genc.python as genc\n",
        "from genc.python import authoring\n",
        "from genc.python import interop\n",
        "from genc.python import runtime\n",
        "from genc.python.examples import executor"
      ]
    },
    {
      "cell_type": "markdown",
      "metadata": {
        "id": "gbAo8YrPYpb1"
      },
      "source": [
        "## Define constants\n",
        "\n",
        "First, let's define a few important strings - an API key for model access (like\n",
        "you did in the preceding tutorials), app id for Wolfram Alpha, and the text of\n",
        "the reasoning template to use."
      ]
    },
    {
      "cell_type": "code",
      "execution_count": null,
      "metadata": {
        "id": "XT-hwn-NymQM"
      },
      "outputs": [],
      "source": [
        "import textwrap"
      ]
    },
    {
      "cell_type": "code",
      "execution_count": null,
      "metadata": {
        "cellView": "form",
        "id": "FvZnLvGfP8y5"
      },
      "outputs": [],
      "source": [
        "gemini_api_key = \"\"\n",
        "wolfram_app_id = \"\"\n",
        "\n",
        "reasoning_template = \"\"\"\n",
        "  Solve a question answering task with interleaving Thought, Action, Observation steps.\n",
        "  Thought can reason about the current situation\n",
        "  Action can be only two types:\n",
        "  (1) Math[query], Useful for when you need to solve math problems.\n",
        "  (2) Finish[answer], which returns the answer as a number terminates.\n",
        "  Here's an example:\n",
        "  Question: what is the result of power of 2 + 1?\n",
        "  Thought: power of 2\n",
        "  Action: Math[pow(2)]\n",
        "  Observation: 4\n",
        "  Thought: I can now process the answer.\n",
        "  Action: Math[4+1]\n",
        "  Observation: 5\n",
        "  Thought: Seems like I got the answer.\n",
        "  Action: Finish[5]\n",
        "  Please do it step by step.\n",
        "  Question: {question}\n",
        "  \"\"\""
      ]
    },
    {
      "cell_type": "markdown",
      "metadata": {
        "id": "iRDbXnn0P8y5"
      },
      "source": [
        "## Define the Agent\n",
        "\n",
        "Now, we're going to use GenC building blocks to create an agent.\n",
        "\n",
        "Here's the agent behavior we're aiming for:\n",
        "\n",
        "*   We template-instruct the model to break down a question into steps.\n",
        "\n",
        "*   In each step, the model explains its thought, and formulates a math\n",
        "    equation as action.\n",
        "\n",
        "*   The equation is then calculated by Wolfram (an external service\n",
        "    you may remember from earlier tutorials).\n",
        "\n",
        "*   These interaction history are then stored in a memory/context.\n",
        "\n",
        "*   Wash, rinse, repease the process for another step..."
      ]
    },
    {
      "cell_type": "code",
      "execution_count": null,
      "metadata": {
        "cellView": "form",
        "id": "NVYM5CaOP8y5"
      },
      "outputs": [],
      "source": [
        "# Logger prints to terminal\n",
        "log_it = genc.authoring.create_logger()\n",
        "\n",
        "# Context keeps the interaction history with model.\n",
        "# These Context is backed by a thread safe key value store.\n",
        "read_context = genc.authoring.create_custom_function(\"/local_cache/read\")\n",
        "add_to_context = genc.authoring.create_custom_function(\"/local_cache/write\")\n",
        "evict_context = genc.authoring.create_custom_function(\"/local_cache/remove\")\n",
        "\n",
        "model_config = genc.authoring.create_rest_model_config(\n",
        "    \"https://generativelanguage.googleapis.com/v1beta/models/gemini-pro:generateContent\",\n",
        "    gemini_api_key,\n",
        ")\n",
        "model_call = genc.authoring.create_model_with_config(\n",
        "    \"/cloud/gemini\", model_config\n",
        ")\n",
        "\n",
        "# Use WolframAlpha as a Tool to solve simple math questions.\n",
        "solve_math = (\n",
        "    genc.interop.langchain.CustomChain()\n",
        "    | genc.authoring.create_custom_function(\"/react/extract_math_question\")\n",
        "    | genc.authoring.create_wolfram_alpha(wolfram_app_id)\n",
        "    # Template Engine will extract the result from response JSON\n",
        "    | genc.authoring.create_inja_template(\n",
        "        \"{% if queryresult.pods\"\n",
        "        \" %}{{queryresult.pods.0.subpods.0.plaintext}}{% endif %}\"\n",
        "    )\n",
        ")\n",
        "\n",
        "# Define a resoning loop\n",
        "# It will keep executing until a boolean op in the chain evaluates to true.\n",
        "reasoning_loop = (\n",
        "    genc.interop.langchain.CustomChain()\n",
        "    | read_context\n",
        "    | model_call\n",
        "    | genc.authoring.create_custom_function(\"/react/parse_thought_action\")\n",
        "    | log_it\n",
        "    | genc.authoring.create_regex_partial_match(\"Finish\")\n",
        "    | add_to_context\n",
        "    | solve_math\n",
        "    | genc.authoring.create_custom_function(\"/react/format_observation\")\n",
        "    | log_it\n",
        "    | add_to_context\n",
        ")\n",
        "# If agent can't get an answer by 8th iteration, terminate.\n",
        "reasoning_loop.num_iteration = 8\n",
        "\n",
        "# Now set up the instruction tempalte and wire the agent together.\n",
        "instruction_template = genc.authoring.create_prompt_template(\n",
        "    reasoning_template\n",
        ")\n",
        "\n",
        "math_agent_chain = (\n",
        "    genc.interop.langchain.CustomChain()\n",
        "    | evict_context\n",
        "    | instruction_template\n",
        "    | add_to_context\n",
        "    | log_it\n",
        "    | reasoning_loop\n",
        ")\n",
        "\n",
        "# Compiles the agent into a portable computation, which can be run in C++/mobile\n",
        "portable_ir = genc.interop.langchain.create_computation(math_agent_chain)"
      ]
    },
    {
      "cell_type": "markdown",
      "metadata": {
        "id": "nIxSrngDYeYs"
      },
      "source": [
        "## Compile \u0026 Run it\n",
        "\n",
        "The necessary components are already wired into the example runtime, in a manner\n",
        "similar to what's shown in the preceding tutorial, so you can use them out of\n",
        "the box (but please consult\n",
        "[executor_stacks.cc](https://github.com/google/genc/tree/master/genc/cc/examples/executors/executor_stacks.cc)\n",
        "if you'd like to review how this is done)."
      ]
    },
    {
      "cell_type": "code",
      "execution_count": null,
      "metadata": {
        "cellView": "form",
        "id": "y3GlDvXaP8y6"
      },
      "outputs": [],
      "source": [
        "# Runs the agent\n",
        "runner = genc.runtime.Runner(portable_ir,\n",
        "                             genc.examples.executor.create_default_executor())\n",
        "runner(\n",
        "    \"\"\"what is the result of (square root of 4) + 3 to the power of 2 + 3 *(8 +\n",
        "     4) / 2 - 7\"\"\"\n",
        ")"
      ]
    },
    {
      "cell_type": "markdown",
      "metadata": {
        "id": "lyIzhQGVaESn"
      },
      "source": [
        "**Sample Output**\n",
        "\n",
        "*   Thought: I need to calculate the square root of 4 and cube 3 first.\n",
        "*   Action: Math[sqrt(4)]\n",
        "*   Observation: 2\n",
        "*   Thought: I need to cube 3 now.\n",
        "*   Action: Math[pow(3, 2)]\n",
        "*   Observation: 9\n",
        "*   Thought: Now I need to evaluate the expression.\n",
        "*   Action: Math[(2) + (9) + (3 * (8 + 4) / 2) - 7]\n",
        "*   Observation: 22\n",
        "*   Thought: Seems like I got the answer.\n",
        "*   Action: Finish[22]"
      ]
    },
    {
      "cell_type": "markdown",
      "metadata": {
        "id": "GPveJnAkOyqy"
      },
      "source": [
        "## Save the IR to a file and deploy on Android\n",
        "\n",
        "1. Run following code to save the IR to a file.\n",
        "\n",
        "2. Follow instructions from\n",
        "[Tutorial 1](https://github.com/google/genc/tree/master/genc/docs/tutorials/tutorial_1_simple_cascade.ipynb) to deploy the IR on an Android phone."
      ]
    },
    {
      "cell_type": "code",
      "execution_count": null,
      "metadata": {
        "id": "HVQGZ6cJPfcs"
      },
      "outputs": [],
      "source": [
        "with open(\"/tmp/genc_demo.pb\", \"wb\") as f:\n",
        "  f.write(portable_ir.SerializeToString())"
      ]
    },
    {
      "cell_type": "markdown",
      "metadata": {
        "id": "6CeV81bYP3gg"
      },
      "source": [
        "## Run the demo on Android\n",
        "\n",
        "Open the “GenC Demo” app (as in the first tutorial),\n",
        "and type a math query.\n",
        "\n",
        "Sample query to enter in UI:\n",
        "\n",
        "```What is the result of (square root of 4) + 3 to the power of 2```\n",
        "\n",
        "See the result."
      ]
    },
    {
      "cell_type": "markdown",
      "metadata": {
        "id": "rSqXKE3TeTQt"
      },
      "source": [
        "## Cross-Language Interoperability\n",
        "\n",
        "As in the earlier examples, the agent logic in the form of a portable IR can be\n",
        "loaded and executed from C++ or Java, in Colab or on an Android phone (but keep\n",
        "in mind that if you reconfigure it to use a smaller on-device model, more work\n",
        "will be needed to engineer a working prompt).\n",
        "\n",
        "While the above example shows authoring in Python, the same abstractions are\n",
        "available in C++ (as discussed in\n",
        "[api.md](https://github.com/google/genc/tree/master/genc/docs/api.md))."
      ]
    },
    {
      "cell_type": "markdown",
      "metadata": {
        "id": "civ2bTc9P8y6"
      },
      "source": [
        "## Coming next: express the agent using LangChain-based APIs\n",
        "\n",
        "In this tutorial, we used GenC's native authoring interfaces to give you a\n",
        "feel for what the native building blocks look like, and to transparently\n",
        "show the exact logic of an agent.\n",
        "\n",
        "Developer may prefer other authoring frameworks, such as LangChain, and you\n",
        "may have also noticed that the tools vary from use case to use case while\n",
        "the reasoning loop itself might be reusable. How can we levarage the benefit\n",
        "of LangChain within GenC?\n",
        "\n",
        "Make sure to read the next tutorial :)"
      ]
    }
  ],
  "metadata": {
    "colab": {
      "provenance": []
    },
    "kernelspec": {
      "display_name": "Python 3",
      "name": "python3"
    },
    "language_info": {
      "name": "python"
    }
  },
  "nbformat": 4,
  "nbformat_minor": 0
}
