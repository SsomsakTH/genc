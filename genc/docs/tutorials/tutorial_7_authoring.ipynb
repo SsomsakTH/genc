{
  "cells": [
    {
      "cell_type": "markdown",
      "metadata": {
        "id": "csMZ6f5FIlrL"
      },
      "source": [
        "# Tutorial 7: Authoring APIs\n",
        "\n",
        "In this tutorial, we'll do a more systematic walkthrough over the core authoring\n",
        "APIs that you can use to define your workloads. Since this is a Python Jupyter\n",
        "notebook, we'll default to Python, but the core abstractions are available also\n",
        "in C++ and Java, albeit the exact syntax may vary. We encourate you to briefly\n",
        "skim over the\n",
        "[API documentation](https://github.com/google/genc/tree/master/genc/docs/api.md)\n",
        "for an overview of the types of\n",
        "APIs that exist in GenC, and how they vary across languages. In this tutorial,\n",
        "our focus will be more hands-on and example-driven.\n",
        "\n",
        "In the rest of the tutorial, we'll repeat some of the introductory material to\n",
        "make it self-contained.\n",
        "\n",
        "## Before we begin\n",
        "\n",
        "As usual, make sure that you have a core development environment setup,\n",
        "similarly to the preceding tutorials, so that you can load this notebook in\n",
        "Jupyter and execute the code cells. For this, follow the basic instructions in\n",
        "[SETUP.md](https://github.com/google/genc/tree/master/SETUP.md),\n",
        "and reopen this notebook in Jupyter, and then execute the following code cells\n",
        "to confirm that the setup works as expected."
      ]
    },
    {
      "cell_type": "code",
      "execution_count": null,
      "metadata": {
        "id": "-EBhdXrGIdvF"
      },
      "outputs": [],
      "source": [
        "import genc\n",
        "from genc.python import authoring\n",
        "from genc.python import interop\n",
        "from genc.python import runtime\n",
        "from genc.python import examples"
      ]
    },
    {
      "cell_type": "markdown",
      "metadata": {
        "id": "GF_Eq0LnIrYR"
      },
      "source": [
        "## Defining and running your first computation\n",
        "\n",
        "Now, it's time to define your first computation. We're going to start with a\n",
        "simple \"hello, world\" sort of example, a computation that uses a prompt\n",
        "template to generate a greeting. You may write something as follows:"
      ]
    },
    {
      "cell_type": "code",
      "execution_count": null,
      "metadata": {
        "id": "EdljtDCBJFhi"
      },
      "outputs": [],
      "source": [
        "@genc.python.authoring.traced_computation\n",
        "def say_hello(name):\n",
        "  return genc.python.authoring.prompt_template['Hello, {name}!'](name)"
      ]
    },
    {
      "cell_type": "markdown",
      "metadata": {
        "id": "1goNX6nJJc0x"
      },
      "source": [
        "In order to run your computation, you're going to need to create an executor.\n",
        "There are many ways to do it, but perhaps the simplest way to go is to register\n",
        "a default executor we created, which enables you to call computations like the\n",
        "one you've defined above similarly to how you'd call a Python function. You can\n",
        "do this as follows:"
      ]
    },
    {
      "cell_type": "code",
      "execution_count": null,
      "metadata": {
        "id": "dcCjOjPGJmyi"
      },
      "outputs": [],
      "source": [
        "genc.python.examples.executor.set_default_executor()"
      ]
    },
    {
      "cell_type": "markdown",
      "metadata": {
        "id": "gSNMI8JrKQvF"
      },
      "source": [
        "Now you can run your computation:"
      ]
    },
    {
      "cell_type": "code",
      "execution_count": null,
      "metadata": {
        "id": "-9AJVUgEKSmw"
      },
      "outputs": [],
      "source": [
        "say_hello('Barbara')"
      ]
    },
    {
      "cell_type": "markdown",
      "metadata": {
        "id": "ubIH-tbqKuTd"
      },
      "source": [
        "You should see:\n",
        "\n",
        "```\n",
        "'Hello, Barbara!'\n",
        "```\n",
        "\n",
        "You can print the\n",
        "[portable IR](https://github.com/google/genc/tree/master/genc/docs/ir.md)\n",
        "that defines the computation you've just defined, as follows:"
      ]
    },
    {
      "cell_type": "code",
      "execution_count": null,
      "metadata": {
        "id": "HbXnXQcWK0yQ"
      },
      "outputs": [],
      "source": [
        "print(say_hello.portable_ir)"
      ]
    },
    {
      "cell_type": "markdown",
      "metadata": {
        "id": "ilo0savtK8d_"
      },
      "source": [
        "With the IR at hand, there are more mechanisms at your disposal, such as running\n",
        "your computation in a different programming language or execution environment.\n",
        "These topics are outside of the scope of this authoring tutorial, but please see\n",
        "[api.md](https://github.com/google/genc/tree/master/genc/docs/api.md)\n",
        "for details if you're interested."
      ]
    },
    {
      "cell_type": "markdown",
      "metadata": {
        "id": "1V9jNblaOtkY"
      },
      "source": [
        "## The anatomy of your first computation\n",
        "\n",
        "Now, let's take a closer look at the computation you've defined, and use it as\n",
        "the opportunity to explain a few core concepts. As a reminder, here's what it\n",
        "looked like:\n",
        "\n",
        "```\n",
        "@genc.python.authoring.traced_computation\n",
        "def say_hello(name):\n",
        "  return genc.python.authoring.prompt_template['Hello, {name}!'](name)\n",
        "```\n",
        "\n",
        "The first thing to note is that, you've defined it using a syntax similar to a\n",
        "Python function, with a `traced_computation` decorator. The computation under\n",
        "the hood is not actually Python code (as you saw above by printing the\n",
        "`portable_ir` attribute, it's actually in the IR form), but it's constructed in\n",
        "a Python-like fashion. In essence, code inside the decorated Python function\n",
        "constructs the computation \"graph\" (so to speak), with each Python-like function\n",
        "call inside adding a piece of that graph. The Python code inside it is being\n",
        "traced at declaration time. In case you're familiar with the \"graph mode\" in\n",
        "TensorFlow, the mechanism we use here is very similar.\n",
        "\n",
        "Thus, in general, a definition of a computation using the tracing API that we're\n",
        "showing here is going to look like the following. It can take one or more\n",
        "arguments, which you can then refer to in the body of the computation. At some\n",
        "point, you must use the `return` statement to indicate the result.\n",
        "\n",
        "```\n",
        "@genc.python.authoring.traced_computation\n",
        "def say_hello(arg_1, arg_2, ..., arg_n):\n",
        "  # Some code that might refer to any of the `arg_1`, `arg_2`, ..., `arg_n`\n",
        "  return ...\n",
        "```\n",
        "\n",
        "In your example, you've also seen the use of a `prompt_template`, of the\n",
        "building blocks we provide. Like most building blocks, it takes two parameters,\n",
        "one in square brackets - this is called \"static parameter\", a baked-in\n",
        "part of the computation logic, and one in round brackets - this is called the\n",
        "\"dynamic parameter\", and it can be computed while your computation runs. In this\n",
        "case, the prompt template text is static, but the name being fed to it is\n",
        "dynamic, as it's supplied whren the computation is being invoked.\n",
        "\n",
        "## Playing with prompt templates\n",
        "\n",
        "Now that you understand the syntax, let's play with more this initial example,\n",
        "still just using the prompt template as a building block, and illustrate a few\n",
        "concepts in the process.\n",
        "\n",
        "First, let's throw in another prompt template, so that your computation now\n",
        "consists of two elements - the two prompt templates chained together, with one\n",
        "feeding into the other:"
      ]
    },
    {
      "cell_type": "code",
      "execution_count": null,
      "metadata": {
        "id": "R858L0SlPVgm"
      },
      "outputs": [],
      "source": [
        "@genc.python.authoring.traced_computation\n",
        "def say_hello(x):\n",
        "  friendly_name = genc.python.authoring.prompt_template['my friend {name}'](x)\n",
        "  return genc.python.authoring.prompt_template['Hello, {name}!'](friendly_name)\n",
        "\n",
        "say_hello('Barbara')"
      ]
    },
    {
      "cell_type": "markdown",
      "metadata": {
        "id": "YbJ3qsUgTa-4"
      },
      "source": [
        "You should see:\n",
        "\n",
        "```\n",
        "'Hello, my friend Barbara!'\n",
        "```\n",
        "\n",
        "First, notice that the names of the parameters to your computation and the\n",
        "names of the parameters iun the prompt template are separate - there's no\n",
        "connection between them:\n",
        "*   The name `x` in the body of the computation represents the argument.\n",
        "*   That argument `x` is being fed as an input into the first prompt template.\n",
        "*   In the text of the first prompt template, the input is represented as a\n",
        "    placeholders string `{name}`. Here, `{name}` simply represents the input.\n",
        "    Any string will do.\n",
        "*   We capture the output produced by the first promtp template, and give it a\n",
        "    name `friendly_name` in the body of the traced computation.\n",
        "*   This is subsequently fed as input to the second prompt template call.\n",
        "*   The text of the second prompt template, again, happens to use `{name}` to\n",
        "    represents its input. Any string would do.\n",
        "*   The result of the second prompt template (and thus the entire chain) is\n",
        "    being returned as the result of the computation.\n",
        "\n",
        "The overall flow here is meant to resemble ordinary programming in Python, where\n",
        "you intersperse function calls, and assign results to local variables (but keep\n",
        "in mind the underlying logic is not Python, which has some implications, e.g.,\n",
        "in terms of the order of execution - mor on this shortly).\n",
        "\n",
        "With this, we're ready to expand on our example. Let's throw in an additional\n",
        "argument to your function, and upgrade to use multi-variate prompt templates,\n",
        "i.e., prompt templates that can take more than one parameter as input."
      ]
    },
    {
      "cell_type": "code",
      "execution_count": null,
      "metadata": {
        "id": "puMl1PfrVWol"
      },
      "outputs": [],
      "source": [
        "@genc.python.authoring.traced_computation\n",
        "def say_hello(title, first_name, last_name):\n",
        "  full_name = genc.python.authoring.prompt_template_with_parameters[\n",
        "      'my friend {x} {y}', ['x', 'y']](first_name, last_name)\n",
        "  return genc.python.authoring.prompt_template_with_parameters[\n",
        "      'Hello, {a}! Can I call you {b}? Or would you prefer {c} {d}?',\n",
        "       ['a', 'b', 'c', 'd' ]](full_name, first_name, title, last_name)\n",
        "\n",
        "say_hello('Sir', 'Alexander', 'Fleming')"
      ]
    },
    {
      "cell_type": "markdown",
      "metadata": {
        "id": "1sEJ2kPTYS0o"
      },
      "source": [
        "You should see:\n",
        "\n",
        "```\n",
        "'Hello, my friend Alexander Fleming! Can I call you Alexander? Or would you\n",
        "prefer Sir Fleming?'\n",
        "```\n",
        "\n",
        "In the above example, we used building block `prompt_template_with_parameters`,\n",
        "which takes the additional list of parameter names. This list helps determine\n",
        "the order in which parameters will be given, which may differ from the order in\n",
        "which they're used in the text. Also, the same parameter can appear in the text\n",
        "multiple times, like in this example:"
      ]
    },
    {
      "cell_type": "code",
      "execution_count": null,
      "metadata": {
        "id": "28q_n5tTY5CI"
      },
      "outputs": [],
      "source": [
        "@genc.python.authoring.traced_computation\n",
        "def show_off_counting(x, y, z):\n",
        "  return genc.python.authoring.prompt_template_with_parameters[\n",
        "      'I can count forward, check this out: {a}, {b}, {c}. And backwards, too: {c}, {b}, {a}.',\n",
        "       ['a', 'b', 'c']](x, y, z)\n",
        "\n",
        "show_off_counting('one', 'two', 'three')"
      ]
    },
    {
      "cell_type": "markdown",
      "metadata": {
        "id": "4LV32navZmQr"
      },
      "source": [
        "You should see:\n",
        "\n",
        "```\n",
        "'I can count forward, check this out: one, two, three. And backwards, too: three, two, one.'\n",
        "```\n",
        "\n",
        "(...to be continued...)"
      ]
    }
  ],
  "metadata": {
    "colab": {
      "private_outputs": true,
      "provenance": []
    }
  },
  "nbformat": 4,
  "nbformat_minor": 0
}
