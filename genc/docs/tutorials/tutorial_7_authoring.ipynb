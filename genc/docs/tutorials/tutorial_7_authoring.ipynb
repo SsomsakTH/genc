{
  "cells": [
    {
      "cell_type": "markdown",
      "metadata": {
        "id": "csMZ6f5FIlrL"
      },
      "source": [
        "# Tutorial 7: Authoring APIs\n",
        "\n",
        "In this tutorial, we'll do a more systematic walkthrough over the core authoring\n",
        "APIs that you can use to define your workloads. Since this is a Python Jupyter\n",
        "notebook, we'll default to Python, but the core abstractions are available also\n",
        "in C++ and Java, albeit the exact syntax may vary. We encourate you to briefly\n",
        "skim over the\n",
        "[API documentation](https://github.com/google/genc/tree/master/genc/docs/api.md)\n",
        "for an overview of the types of\n",
        "APIs that exist in GenC, and how they vary across languages. In this tutorial,\n",
        "our focus will be more hands-on and example-driven.\n",
        "\n",
        "In the rest of the tutorial, we'll repeat some of the introductory material to\n",
        "make it self-contained.\n",
        "\n",
        "## Before we begin\n",
        "\n",
        "As usual, make sure that you have a core development environment setup,\n",
        "similarly to the preceding tutorials, so that you can load this notebook in\n",
        "Jupyter and execute the code cells. For this, follow the basic instructions in\n",
        "[SETUP.md](https://github.com/google/genc/tree/master/SETUP.md),\n",
        "and reopen this notebook in Jupyter, and then execute the following code cells\n",
        "to confirm that the setup works as expected."
      ]
    },
    {
      "cell_type": "code",
      "execution_count": null,
      "metadata": {
        "id": "-EBhdXrGIdvF"
      },
      "outputs": [],
      "source": [
        "import genc\n",
        "\n",
        "from genc.python import authoring\n",
        "from genc.python import examples\n",
        "from genc.python import interop\n",
        "from genc.python import runtime"
      ]
    },
    {
      "cell_type": "markdown",
      "metadata": {
        "id": "GF_Eq0LnIrYR"
      },
      "source": [
        "## Defining and running your first computation\n",
        "\n",
        "Now, it's time to define your first computation. We're going to start with a\n",
        "simple \"hello, world\" sort of example, a computation that uses a prompt\n",
        "template to generate a greeting. You may write something as follows:"
      ]
    },
    {
      "cell_type": "code",
      "execution_count": null,
      "metadata": {
        "id": "EdljtDCBJFhi"
      },
      "outputs": [],
      "source": [
        "@genc.python.authoring.traced_computation\n",
        "def say_hello(name):\n",
        "  return genc.python.authoring.prompt_template['Hello, {name}!'](name)"
      ]
    },
    {
      "cell_type": "markdown",
      "metadata": {
        "id": "1goNX6nJJc0x"
      },
      "source": [
        "In order to run your computation, you're going to need to create an executor.\n",
        "There are many ways to do it, but perhaps the simplest way to go is to register\n",
        "a default executor we created, which enables you to call computations like the\n",
        "one you've defined above similarly to how you'd call a Python function. You can\n",
        "do this as follows:"
      ]
    },
    {
      "cell_type": "code",
      "execution_count": null,
      "metadata": {
        "id": "dcCjOjPGJmyi"
      },
      "outputs": [],
      "source": [
        "genc.python.examples.executor.set_default_executor()"
      ]
    },
    {
      "cell_type": "markdown",
      "metadata": {
        "id": "gSNMI8JrKQvF"
      },
      "source": [
        "Now you can run your computation:"
      ]
    },
    {
      "cell_type": "code",
      "execution_count": null,
      "metadata": {
        "colab": {
          "height": 35
        },
        "executionInfo": {
          "elapsed": 6,
          "status": "ok",
          "timestamp": 1715806516718,
          "user": {
            "displayName": "",
            "userId": ""
          },
          "user_tz": 420
        },
        "id": "-9AJVUgEKSmw",
        "outputId": "3aea17c8-d205-4976-bea1-436982e56aa0"
      },
      "outputs": [
        {
          "data": {
            "application/vnd.google.colaboratory.intrinsic+json": {
              "type": "string"
            },
            "text/plain": [
              "'Hello, Barbara!'"
            ]
          },
          "execution_count": 4,
          "metadata": {},
          "output_type": "execute_result"
        }
      ],
      "source": [
        "say_hello('Barbara')"
      ]
    },
    {
      "cell_type": "markdown",
      "metadata": {
        "id": "ubIH-tbqKuTd"
      },
      "source": [
        "You should see:\n",
        "\n",
        "```\n",
        "'Hello, Barbara!'\n",
        "```\n",
        "\n",
        "You can print the\n",
        "[portable IR](https://github.com/google/genc/tree/master/genc/docs/ir.md)\n",
        "that defines the computation you've just defined, as follows:"
      ]
    },
    {
      "cell_type": "code",
      "execution_count": null,
      "metadata": {
        "executionInfo": {
          "elapsed": 4,
          "status": "ok",
          "timestamp": 1715806516868,
          "user": {
            "displayName": "",
            "userId": ""
          },
          "user_tz": 420
        },
        "id": "HbXnXQcWK0yQ",
        "outputId": "f82e0b87-68a7-41ee-86a5-3e640c81253f"
      },
      "outputs": [
        {
          "name": "stdout",
          "output_type": "stream",
          "text": [
            "lambda {\n",
            "  parameter_name: \"arg\"\n",
            "  result {\n",
            "    block {\n",
            "      local {\n",
            "        name: \"v_0\"\n",
            "        value {\n",
            "          intrinsic {\n",
            "            uri: \"prompt_template\"\n",
            "            static_parameter {\n",
            "              str: \"Hello, {name}!\"\n",
            "            }\n",
            "          }\n",
            "        }\n",
            "      }\n",
            "      result {\n",
            "        call {\n",
            "          function {\n",
            "            reference {\n",
            "              name: \"v_0\"\n",
            "            }\n",
            "          }\n",
            "          argument {\n",
            "            reference {\n",
            "              name: \"arg\"\n",
            "            }\n",
            "          }\n",
            "        }\n",
            "      }\n",
            "    }\n",
            "  }\n",
            "}\n",
            "\n"
          ]
        }
      ],
      "source": [
        "print(say_hello.portable_ir)"
      ]
    },
    {
      "cell_type": "markdown",
      "metadata": {
        "id": "ilo0savtK8d_"
      },
      "source": [
        "With the IR at hand, there are more mechanisms at your disposal, such as running\n",
        "your computation in a different programming language or execution environment.\n",
        "These topics are outside of the scope of this authoring tutorial, but please see\n",
        "[api.md](https://github.com/google/genc/tree/master/genc/docs/api.md)\n",
        "for details if you're interested."
      ]
    },
    {
      "cell_type": "markdown",
      "metadata": {
        "id": "1V9jNblaOtkY"
      },
      "source": [
        "## The anatomy of your first computation\n",
        "\n",
        "Now, let's take a closer look at the computation you've defined, and use it as\n",
        "the opportunity to explain a few core concepts. As a reminder, here's what it\n",
        "looked like:\n",
        "\n",
        "```\n",
        "@genc.python.authoring.traced_computation\n",
        "def say_hello(name):\n",
        "  return genc.python.authoring.prompt_template['Hello, {name}!'](name)\n",
        "```\n",
        "\n",
        "The first thing to note is that, you've defined it using a syntax similar to a\n",
        "Python function, with a `traced_computation` decorator. The computation under\n",
        "the hood is not actually Python code (as you saw above by printing the\n",
        "`portable_ir` attribute, it's actually in the IR form), but it's constructed in\n",
        "a Python-like fashion. In essence, code inside the decorated Python function\n",
        "constructs the computation \"graph\" (so to speak), with each Python-like function\n",
        "call inside adding a piece of that graph. The Python code inside it is being\n",
        "traced at declaration time. In case you're familiar with the \"graph mode\" in\n",
        "TensorFlow, the mechanism we use here is very similar.\n",
        "\n",
        "Thus, in general, a definition of a computation using the tracing API that we're\n",
        "showing here is going to look like the following. It can take one or more\n",
        "arguments, which you can then refer to in the body of the computation. At some\n",
        "point, you must use the `return` statement to indicate the result.\n",
        "\n",
        "```\n",
        "@genc.python.authoring.traced_computation\n",
        "def say_hello(arg_1, arg_2, ..., arg_n):\n",
        "  # Some code that might refer to any of the `arg_1`, `arg_2`, ..., `arg_n`\n",
        "  return ...\n",
        "```\n",
        "\n",
        "In your example, you've also seen the use of a `prompt_template`, of the\n",
        "building blocks we provide. Like most building blocks, it takes two parameters,\n",
        "one in square brackets - this is called \"static parameter\", a baked-in\n",
        "part of the computation logic, and one in round brackets - this is called the\n",
        "\"dynamic parameter\", and it can be computed while your computation runs. In this\n",
        "case, the prompt template text is static, but the name being fed to it is\n",
        "dynamic, as it's supplied whren the computation is being invoked.\n",
        "\n",
        "## Playing with prompt templates\n",
        "\n",
        "Now that you understand the syntax, let's play with more this initial example,\n",
        "still just using the prompt template as a building block, and illustrate a few\n",
        "concepts in the process.\n",
        "\n",
        "First, let's throw in another prompt template, so that your computation now\n",
        "consists of two elements - the two prompt templates chained together, with one\n",
        "feeding into the other:"
      ]
    },
    {
      "cell_type": "code",
      "execution_count": null,
      "metadata": {
        "colab": {
          "height": 35
        },
        "executionInfo": {
          "elapsed": 5,
          "status": "ok",
          "timestamp": 1715806516891,
          "user": {
            "displayName": "",
            "userId": ""
          },
          "user_tz": 420
        },
        "id": "R858L0SlPVgm",
        "outputId": "1a9ffe02-e058-4288-a52b-4e6583aa8b77"
      },
      "outputs": [
        {
          "data": {
            "application/vnd.google.colaboratory.intrinsic+json": {
              "type": "string"
            },
            "text/plain": [
              "'Hello, my friend Barbara!'"
            ]
          },
          "execution_count": 6,
          "metadata": {},
          "output_type": "execute_result"
        }
      ],
      "source": [
        "@genc.python.authoring.traced_computation\n",
        "def say_hello(x):\n",
        "  friendly_name = genc.python.authoring.prompt_template['my friend {name}'](x)\n",
        "  return genc.python.authoring.prompt_template['Hello, {name}!'](friendly_name)\n",
        "\n",
        "say_hello('Barbara')"
      ]
    },
    {
      "cell_type": "markdown",
      "metadata": {
        "id": "YbJ3qsUgTa-4"
      },
      "source": [
        "You should see:\n",
        "\n",
        "```\n",
        "'Hello, my friend Barbara!'\n",
        "```\n",
        "\n",
        "First, notice that the names of the parameters to your computation and the\n",
        "names of the parameters iun the prompt template are separate - there's no\n",
        "connection between them:\n",
        "*   The name `x` in the body of the computation represents the argument.\n",
        "*   That argument `x` is being fed as an input into the first prompt template.\n",
        "*   In the text of the first prompt template, the input is represented as a\n",
        "    placeholders string `{name}`. Here, `{name}` simply represents the input.\n",
        "    Any string will do.\n",
        "*   We capture the output produced by the first promtp template, and give it a\n",
        "    name `friendly_name` in the body of the traced computation.\n",
        "*   This is subsequently fed as input to the second prompt template call.\n",
        "*   The text of the second prompt template, again, happens to use `{name}` to\n",
        "    represents its input. Any string would do.\n",
        "*   The result of the second prompt template (and thus the entire chain) is\n",
        "    being returned as the result of the computation.\n",
        "\n",
        "The overall flow here is meant to resemble ordinary programming in Python, where\n",
        "you intersperse function calls, and assign results to local variables (but keep\n",
        "in mind the underlying logic is not Python, which has some implications, e.g.,\n",
        "in terms of the order of execution - mor on this shortly).\n",
        "\n",
        "With this, we're ready to expand on our example. Let's throw in an additional\n",
        "argument to your function, and upgrade to use multi-variate prompt templates,\n",
        "i.e., prompt templates that can take more than one parameter as input."
      ]
    },
    {
      "cell_type": "code",
      "execution_count": null,
      "metadata": {
        "colab": {
          "height": 35
        },
        "executionInfo": {
          "elapsed": 8,
          "status": "ok",
          "timestamp": 1715806517578,
          "user": {
            "displayName": "",
            "userId": ""
          },
          "user_tz": 420
        },
        "id": "puMl1PfrVWol",
        "outputId": "2f81cefd-27c5-4fe0-ba3a-1cdb9217cc2a"
      },
      "outputs": [
        {
          "data": {
            "application/vnd.google.colaboratory.intrinsic+json": {
              "type": "string"
            },
            "text/plain": [
              "'Hello, my friend Alexander Fleming! Can I call you Alexander? Or would you prefer Sir Fleming?'"
            ]
          },
          "execution_count": 7,
          "metadata": {},
          "output_type": "execute_result"
        }
      ],
      "source": [
        "@genc.python.authoring.traced_computation\n",
        "def fancy_say_hello(title, first_name, last_name):\n",
        "  full_name = genc.python.authoring.prompt_template_with_parameters[\n",
        "      'my friend {x} {y}', ['x', 'y']](first_name, last_name)\n",
        "  return genc.python.authoring.prompt_template_with_parameters[\n",
        "      'Hello, {a}! Can I call you {b}? Or would you prefer {c} {d}?',\n",
        "       ['a', 'b', 'c', 'd' ]](full_name, first_name, title, last_name)\n",
        "\n",
        "fancy_say_hello('Sir', 'Alexander', 'Fleming')"
      ]
    },
    {
      "cell_type": "markdown",
      "metadata": {
        "id": "1sEJ2kPTYS0o"
      },
      "source": [
        "You should see:\n",
        "\n",
        "```\n",
        "'Hello, my friend Alexander Fleming! Can I call you Alexander? Or would you\n",
        "prefer Sir Fleming?'\n",
        "```\n",
        "\n",
        "In the above example, we used building block `prompt_template_with_parameters`,\n",
        "which takes the additional list of parameter names. This list helps determine\n",
        "the order in which parameters will be given, which may differ from the order in\n",
        "which they're used in the text. Also, the same parameter can appear in the text\n",
        "multiple times, like in this example:"
      ]
    },
    {
      "cell_type": "code",
      "execution_count": null,
      "metadata": {
        "colab": {
          "height": 35
        },
        "executionInfo": {
          "elapsed": 8,
          "status": "ok",
          "timestamp": 1715806517615,
          "user": {
            "displayName": "",
            "userId": ""
          },
          "user_tz": 420
        },
        "id": "28q_n5tTY5CI",
        "outputId": "ef2a0005-edd1-44fb-f308-7760f9c7c9e7"
      },
      "outputs": [
        {
          "data": {
            "application/vnd.google.colaboratory.intrinsic+json": {
              "type": "string"
            },
            "text/plain": [
              "'I can count forward, check this out: one, two, three. And backwards, too: three, two, one.'"
            ]
          },
          "execution_count": 8,
          "metadata": {},
          "output_type": "execute_result"
        }
      ],
      "source": [
        "@genc.python.authoring.traced_computation\n",
        "def show_off_counting(x, y, z):\n",
        "  return genc.python.authoring.prompt_template_with_parameters[\n",
        "      'I can count forward, check this out: {a}, {b}, {c}. And backwards, too: {c}, {b}, {a}.',\n",
        "       ['a', 'b', 'c']](x, y, z)\n",
        "\n",
        "show_off_counting('one', 'two', 'three')"
      ]
    },
    {
      "cell_type": "markdown",
      "metadata": {
        "id": "4LV32navZmQr"
      },
      "source": [
        "You should see:\n",
        "\n",
        "```\n",
        "'I can count forward, check this out: one, two, three. And backwards, too: three, two, one.'\n",
        "```\n",
        "\n",
        "## Model inference calls\n",
        "\n",
        "Model calls are another basic building block. Like other building blocks, they\n",
        "are available in the `genc.authoring` namespace. Here's an example of\n",
        "how you can call a built-in test model, and compose it in a chain with a prompt\n",
        "template."
      ]
    },
    {
      "cell_type": "code",
      "execution_count": null,
      "metadata": {
        "colab": {
          "height": 35
        },
        "executionInfo": {
          "elapsed": 5,
          "status": "ok",
          "timestamp": 1715806517643,
          "user": {
            "displayName": "",
            "userId": ""
          },
          "user_tz": 420
        },
        "id": "92rGlsSbWuQB",
        "outputId": "dc998e88-5f7e-4aa6-aaf1-b49d91e3f20d"
      },
      "outputs": [
        {
          "data": {
            "application/vnd.google.colaboratory.intrinsic+json": {
              "type": "string"
            },
            "text/plain": [
              "'This is an output from a test model in response to \"Tell me about scuba diving.\".'"
            ]
          },
          "execution_count": 9,
          "metadata": {},
          "output_type": "execute_result"
        }
      ],
      "source": [
        "@genc.python.authoring.traced_computation\n",
        "def simple_chain(x):\n",
        "  y = genc.python.authoring.prompt_template['Tell me about {topic}.'](x)\n",
        "  return genc.python.authoring.model_inference['test_model'](y)\n",
        "\n",
        "simple_chain('scuba diving')"
      ]
    },
    {
      "cell_type": "markdown",
      "metadata": {
        "id": "GcEzChXmcarH"
      },
      "source": [
        "You should see:\n",
        "\n",
        "```\n",
        "This is an output from a test model in response to \"Tell me about scuba diving.\".\n",
        "```"
      ]
    },
    {
      "cell_type": "markdown",
      "metadata": {
        "id": "ZkdcPHsdrhC_"
      },
      "source": [
        "Now, try this with a real (non-test) model. There are a number of models you can use - the exact selection will\n",
        "depend on how your environment is configured. In this\n",
        "tutorial, we'll use the Gemini model. You'll need the API\n",
        "key, e.g., from Google AI Studio (see\n",
        "[instructions](https://ai.google.dev/tutorials/rest_quickstart)). Copy the key in place of the commented\n",
        "out text below:"
      ]
    },
    {
      "cell_type": "code",
      "execution_count": null,
      "metadata": {
        "id": "sLTHVkm1ugOK"
      },
      "outputs": [],
      "source": [
        "api_key = \"\" # Type your API key here"
      ]
    },
    {
      "cell_type": "code",
      "execution_count": null,
      "metadata": {
        "colab": {
          "height": 35
        },
        "executionInfo": {
          "elapsed": 893,
          "status": "ok",
          "timestamp": 1715806518749,
          "user": {
            "displayName": "",
            "userId": ""
          },
          "user_tz": 420
        },
        "id": "eve-8f_YsYRq",
        "outputId": "a4094c9f-d744-46be-ee0f-b7990f182749"
      },
      "outputs": [
        {
          "data": {
            "application/vnd.google.colaboratory.intrinsic+json": {
              "type": "string"
            },
            "text/plain": [
              "'Blue'"
            ]
          },
          "execution_count": 11,
          "metadata": {},
          "output_type": "execute_result"
        }
      ],
      "source": [
        "@genc.python.authoring.traced_computation\n",
        "def gemini(x):\n",
        "  model = genc.python.authoring.model_inference_with_config[{\n",
        "      'model_uri': '/cloud/gemini',\n",
        "      'config': genc.python.interop.gemini.create_config(api_key)}]\n",
        "  return model(x)\n",
        "\n",
        "gemini('What color is the ocean? Answer in one word only.')"
      ]
    },
    {
      "cell_type": "markdown",
      "metadata": {
        "id": "CoN8udE9vZ4o"
      },
      "source": [
        "You should see:\n",
        "```\n",
        "'Blue'\n",
        "```"
      ]
    },
    {
      "cell_type": "markdown",
      "metadata": {
        "id": "oEJSm2i6vdjq"
      },
      "source": [
        "## Composing larger computations from simpler ones\n",
        "\n",
        "So far, each computation you defined existed on its own, but you can use any\n",
        "of your computations as a building block in another computation, in the same\n",
        "manner as how you used prompt templates and inference calls. Here's an example\n",
        "based on computations you defined earlier in this tutorial."
      ]
    },
    {
      "cell_type": "code",
      "execution_count": null,
      "metadata": {
        "colab": {
          "height": 35
        },
        "executionInfo": {
          "elapsed": 918,
          "status": "ok",
          "timestamp": 1715806519702,
          "user": {
            "displayName": "",
            "userId": ""
          },
          "user_tz": 420
        },
        "id": "2WbS6IVPwP5I",
        "outputId": "e005983c-bc6e-4afa-d93c-92727d926d6f"
      },
      "outputs": [
        {
          "data": {
            "application/vnd.google.colaboratory.intrinsic+json": {
              "type": "string"
            },
            "text/plain": [
              "'Hello, my friend Ernest Hemingway!'"
            ]
          },
          "execution_count": 12,
          "metadata": {},
          "output_type": "execute_result"
        }
      ],
      "source": [
        "@genc.python.authoring.traced_computation\n",
        "def greet_book_author(book_title):\n",
        "  name_prompt = genc.python.authoring.prompt_template[\n",
        "      'Return the first and last name of the author of a book entitled \"{x}\".']\n",
        "  author = gemini(name_prompt(book_title))\n",
        "  return say_hello(author)\n",
        "\n",
        "greet_book_author('The Old Man and the Sea')"
      ]
    },
    {
      "cell_type": "markdown",
      "metadata": {
        "id": "ZRCxgkkxxo2q"
      },
      "source": [
        "You should see:\n",
        "\n",
        "```\n",
        "Hello, my friend Ernest Hemingway!\n",
        "```"
      ]
    },
    {
      "cell_type": "markdown",
      "metadata": {
        "id": "itRb0_1cxsuZ"
      },
      "source": [
        "## Concurrency and order of execution\n",
        "\n",
        "As you recall, we mentioned that we use Python-like syntax, but the code\n",
        "written in GenC is not Python - it's represented as a portable IR, and\n",
        "executed by a C++ runtime.\n",
        "\n",
        "The order in which code excutes is determined only by how data flows from\n",
        "one statement to another, not by the order in which statements in the code\n",
        "are written. If a pair of statements doesn't depend on one-another, they\n",
        "will execute in parallel.\n",
        "\n",
        "Here's an example of a computation that makes 3 concurrent calls to Gemini:"
      ]
    },
    {
      "cell_type": "code",
      "execution_count": null,
      "metadata": {
        "colab": {
          "height": 70
        },
        "executionInfo": {
          "elapsed": 1716,
          "status": "ok",
          "timestamp": 1715806521450,
          "user": {
            "displayName": "",
            "userId": ""
          },
          "user_tz": 420
        },
        "id": "c9aqJ-D0yWlg",
        "outputId": "5f22e4e4-adeb-424e-e16d-4959a9be1525"
      },
      "outputs": [
        {
          "data": {
            "application/vnd.google.colaboratory.intrinsic+json": {
              "type": "string"
            },
            "text/plain": [
              "'Here is some info on cucumbers: Cucumbers can have different colors depending on the variety, but the most common color is **dark green**. Refreshing, crisp, mildly sweet, slightly bitter, vegetal, grassy The price of cucumbers can vary depending on factors such as location, season, and market conditions. Generally, the price of a single cucumber can range from $0.25 to $1.00, while a pound of cucumbers can cost anywhere from $1.00 to $2.50.'"
            ]
          },
          "execution_count": 13,
          "metadata": {},
          "output_type": "execute_result"
        }
      ],
      "source": [
        "@genc.python.authoring.traced_computation\n",
        "def get_attribute_from_gemini(the_thing, its_attribute):\n",
        "  return gemini(genc.python.authoring.prompt_template_with_parameters[\n",
        "      'What is the {x} of {y}?', ['x', 'y']](\n",
        "      its_attribute, the_thing))\n",
        "\n",
        "@genc.python.authoring.traced_computation\n",
        "def tell_me_about(x):\n",
        "  color = get_attribute_from_gemini(x, 'color')\n",
        "  taste = get_attribute_from_gemini(x, 'taste')\n",
        "  price = get_attribute_from_gemini(x, 'price')\n",
        "  return genc.python.authoring.prompt_template_with_parameters[\n",
        "      'Here is some info on {a}: {b} {c} {d}', ['a', 'b', 'c', 'd']](\n",
        "          x, color, taste, price)\n",
        "\n",
        "tell_me_about('cucumbers')"
      ]
    },
    {
      "cell_type": "markdown",
      "metadata": {
        "id": "iWGCK4qx16ev"
      },
      "source": [
        "What you'll get may vary, but here's a sample output:\n",
        "\n",
        "```\n",
        "Here is some info on cucumbers: Cucumbers can vary in color, but the most common colors are:\n",
        "\n",
        "* **Green:** This is the most common color for cucumbers, and it ranges from light green to dark green.\n",
        "* **Yellow:** Some varieties of cucumbers have a yellow color, either when they are ripe or when they are still young.\n",
        "* **White:** White cucumbers are less common, but they exist.\n",
        "* **Red:** Some varieties of cucumbers have a reddish skin, which can be either a deep red or a more subtle pinkish hue.\n",
        "\n",
        "Cucumbers have a mild, refreshing taste. They are slightly sweet and have a hint of bitterness. The skin of the cucumber is slightly bitter, while the flesh is more sweet. The taste of cucumbers can vary depending on the variety and growing conditions.\n",
        "\n",
        "Cucumber prices vary widely depending on geographic location, season, and market conditions.\n",
        "\n",
        "In the United States, the average price of a cucumber is between $0.25 and $0.75 each, or $1.50 to $4 per pound.\n",
        "\n",
        "During the summer months, when cucumbers are in peak season, prices are typically lower. In the winter months, when cucumbers are imported from warmer climates, prices are usually higher.\n",
        "\n",
        "For the most accurate and up-to-date pricing, it is best to check with your local grocery store or farmers' market.\n",
        "```"
      ]
    },
    {
      "cell_type": "markdown",
      "metadata": {
        "id": "17IBeHfW2T1s"
      },
      "source": [
        "## Basic control flow constructs: conditionals\n",
        "\n",
        "Control flow looks a bit different than ordinary Python syntax, since at this\n",
        "time we don't support autograph-like tracing. You express control flow in a\n",
        "functional manner, by providing a Boolean input and a pair of functions, one to\n",
        "evaluate in case the input is true, and the other otherwise.\n",
        "\n",
        "Here's an example of how you can define a conditional. The \"if\" and \"else\"\n",
        "branches go in the square brackets, and the condition is the dynamic parameter."
      ]
    },
    {
      "cell_type": "code",
      "execution_count": null,
      "metadata": {
        "colab": {
          "height": 35
        },
        "executionInfo": {
          "elapsed": 1598,
          "status": "ok",
          "timestamp": 1715806523083,
          "user": {
            "displayName": "",
            "userId": ""
          },
          "user_tz": 420
        },
        "id": "cbuEvqyj2507",
        "outputId": "321a379f-76ac-429f-de7c-1ba02117a336"
      },
      "outputs": [
        {
          "data": {
            "application/vnd.google.colaboratory.intrinsic+json": {
              "type": "string"
            },
            "text/plain": [
              "'LEGO Star Wars Millennium Falcon'"
            ]
          },
          "execution_count": 14,
          "metadata": {},
          "output_type": "execute_result"
        }
      ],
      "source": [
        "@genc.python.authoring.traced_computation\n",
        "def is_child(person):\n",
        "  return genc.python.authoring.regex_partial_match['child'](gemini(\n",
        "      genc.python.authoring.prompt_template[\n",
        "      'Respond with the word \"child\" if {x} is a child, \"adult\" otherwise.'](\n",
        "          person)))\n",
        "\n",
        "@genc.python.authoring.traced_computation\n",
        "def recommend_product(product_category):\n",
        "  return gemini(genc.python.authoring.prompt_template[\n",
        "      'Recommend a product of type \"{x}\". Answer concisely.'](product_category))\n",
        "\n",
        "@genc.python.authoring.traced_computation\n",
        "def recommend_product_for(person):\n",
        "  return genc.python.authoring.conditional[\n",
        "      recommend_product('toy'),\n",
        "      recommend_product('book')](\n",
        "          is_child(person))\n",
        "\n",
        "recommend_product_for('my seven year old nephew')"
      ]
    },
    {
      "cell_type": "code",
      "execution_count": null,
      "metadata": {
        "colab": {
          "height": 35
        },
        "executionInfo": {
          "elapsed": 1836,
          "status": "ok",
          "timestamp": 1715806524950,
          "user": {
            "displayName": "",
            "userId": ""
          },
          "user_tz": 420
        },
        "id": "XA_5heJU5Sfh",
        "outputId": "abd93da8-4efc-457e-cadb-bb020e52dff9"
      },
      "outputs": [
        {
          "data": {
            "application/vnd.google.colaboratory.intrinsic+json": {
              "type": "string"
            },
            "text/plain": [
              "'\"The Hitchhiker\\'s Guide to the Galaxy\" by Douglas Adams'"
            ]
          },
          "execution_count": 15,
          "metadata": {},
          "output_type": "execute_result"
        }
      ],
      "source": [
        "recommend_product_for('the president of the United States of America')"
      ]
    },
    {
      "cell_type": "markdown",
      "metadata": {
        "id": "qO5rIRF05bma"
      },
      "source": [
        "## Basic flow control constructs: loops\n",
        "\n",
        "Continuing from the previous section, let's try writing some loops. There are\n",
        "a number of loop-like constructs, perhaps the simplest of which is a \"while\"\n",
        "loop. Similar in spirit to the conditional statement, it takes a pair of\n",
        "functions in square brackets - the first being the loop \"condition\" function\n",
        "to evaluate in each iteration on the loop state, and the second being the \"body\" to transform the loop state from before to after, and the initial loop\n",
        "state goes in as the dynamic parameter.\n",
        "\n",
        "Here's a counting example:"
      ]
    },
    {
      "cell_type": "code",
      "execution_count": null,
      "metadata": {
        "colab": {
          "height": 35
        },
        "executionInfo": {
          "elapsed": 12479,
          "status": "ok",
          "timestamp": 1715806537540,
          "user": {
            "displayName": "",
            "userId": ""
          },
          "user_tz": 420
        },
        "id": "mobt3UdT6NE1",
        "outputId": "c45cd7a4-8f38-4218-ed32-4f1b4ebe2b0b"
      },
      "outputs": [
        {
          "data": {
            "application/vnd.google.colaboratory.intrinsic+json": {
              "type": "string"
            },
            "text/plain": [
              "'3'"
            ]
          },
          "execution_count": 16,
          "metadata": {},
          "output_type": "execute_result"
        }
      ],
      "source": [
        "@genc.python.authoring.traced_computation\n",
        "def get_the_counter(x):\n",
        "  return gemini(genc.python.authoring.prompt_template[\n",
        "      'Return the counter that appears as the first element in \"{x}\".'](x))\n",
        "\n",
        "@genc.python.authoring.traced_computation\n",
        "def get_the_divisor(x):\n",
        "  return gemini(genc.python.authoring.prompt_template[\n",
        "      'Return the divisor that appears as the second element in \"{x}\".'](x))\n",
        "\n",
        "@genc.python.authoring.traced_computation\n",
        "def is_larger_than_one(x):\n",
        "  return genc.python.authoring.regex_partial_match['YES'](gemini(\n",
        "      genc.python.authoring.prompt_template[\n",
        "      'Respond with the word \"YES\" if {x} is larger than one, \"NO\" otherwise. Just one word, \"YES\" or \"NO\".'](x)))\n",
        "\n",
        "@genc.python.authoring.traced_computation\n",
        "def divide_by_two(x):\n",
        "  return gemini(genc.python.authoring.prompt_template[\n",
        "      'Return {x} divided by two (as an integer). Just the number, no reasoning.'](x))\n",
        "\n",
        "@genc.python.authoring.traced_computation\n",
        "def add_one(x):\n",
        "  return gemini(genc.python.authoring.prompt_template['Return {x} plus one. Just the number, no reasoning.'](x))\n",
        "\n",
        "@genc.python.authoring.traced_computation\n",
        "def should_continue(loop_state):\n",
        "  return is_larger_than_one(get_the_divisor(loop_state))\n",
        "\n",
        "@genc.python.authoring.traced_computation\n",
        "def advance_the_loop(loop_state):\n",
        "  return genc.python.authoring.prompt_template_with_parameters[\n",
        "      'The counter is \"{x}\", and the divisor is \"{y}\".', ['x', 'y']](\n",
        "          add_one(get_the_counter(loop_state)),\n",
        "          divide_by_two(get_the_divisor(loop_state)))\n",
        "\n",
        "# TODO: Fix this clash with the Python language keyword.\n",
        "while_loop = getattr(genc.python.authoring, 'while')\n",
        "\n",
        "@genc.python.authoring.traced_computation\n",
        "def compute_logarithm(number):\n",
        "  initial_state = genc.python.authoring.prompt_template[\n",
        "      'The counter is \"0\", and the divisor is \"{x}\".'](number)\n",
        "  end_state = while_loop[should_continue, advance_the_loop](initial_state)\n",
        "  return get_the_counter(end_state)\n",
        "\n",
        "compute_logarithm('10')"
      ]
    },
    {
      "cell_type": "markdown",
      "metadata": {
        "id": "4InDu1IgB1h0"
      },
      "source": [
        "You should see:\n",
        "\n",
        "```\n",
        "'3'\n",
        "```"
      ]
    },
    {
      "cell_type": "markdown",
      "metadata": {
        "id": "nbPhoPzzItUY"
      },
      "source": [
        "Keep in mind that if you're going to make a lot of model calls, on occasion you\n",
        "may exceed the allowed limit, which could cause code like the above to fail.\n",
        "Usualluy retrying helps. To make the code more robust, you'd want to add error\n",
        "handling for aberrant conditions (such as empty model output, an error message,\n",
        "etc.)."
      ]
    },
    {
      "cell_type": "markdown",
      "metadata": {
        "id": "xc_4wuS7WsbZ"
      },
      "source": [
        "## Parting words\n",
        "\n",
        "We've reached the end of the tutorial - you now have the basic faimilarity with\n",
        "the GenC authoring syntax and some of the core constructs. For more, consider\n",
        "reviewing other tutorials and reading through the API documentation. If there's\n",
        "a building block you'd like to see that you can't find, please reach out, or\n",
        "considering contributing. Good luck!\n"
      ]
    }
  ],
  "metadata": {
    "colab": {
      "last_runtime": {
        "build_target": "",
        "kind": "local"
      },
      "provenance": []
    },
    "kernelspec": {
      "display_name": "Python 3",
      "name": "python3"
    },
    "language_info": {
      "name": "python"
    }
  },
  "nbformat": 4,
  "nbformat_minor": 0
}
