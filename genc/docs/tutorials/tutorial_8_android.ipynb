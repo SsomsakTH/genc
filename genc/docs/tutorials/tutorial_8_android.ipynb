{
  "cells": [
    {
      "cell_type": "markdown",
      "metadata": {
        "id": "bt_wvQgMW_BW"
      },
      "source": [
        "# Tutorial 8: Support for Android\n",
        "\n",
        "This tutorial deep-dives on the basics of working with the Android platform,\n",
        "including deployment, authoring, and runtime options.\n",
        "\n",
        "* * *\n",
        "\n",
        "**DISCLAIMER: Before we continue, we'd like to remind you that everything you\n",
        "see here is intended primarily for research and experimental purposes, and uses\n",
        "in a non-experimental setting are at your own risk.**\n",
        "If you're planning to build a production mobile app to run on Android, at this\n",
        "time we recommend that you review the [Gemini API](https://ai.google.dev/), and the [Gemini Nano on-device through Android AICore](https://android-developers.googleblog.com/2023/12/a-new-foundation-for-ai-on-android.html). AICore is the\n",
        "new system-level capability introduced in Android 14 to provide Gemini-powered\n",
        "solutions for high-end devices, including integrations with the latest ML\n",
        "accelerators, use-case optimized LoRA adapters, and safety filters. To start\n",
        "using Gemini Nano on-device with your app, apply to the\n",
        "[Early Access Preview](https://docs.google.com/forms/d/e/1FAIpQLSdDvg0eEzcUY_-CmtiMZLd68KD3F0usCnRzKKzWb4sAYwhFJg/viewform?usp=header_link).\n",
        "\n",
        "* * *\n",
        "\n",
        "Now that you understand the risks, let's continue."
      ]
    },
    {
      "cell_type": "markdown",
      "metadata": {
        "id": "x06q8PW2XB01"
      },
      "source": [
        "## Overview\n",
        "\n",
        "The overall architecture that we're going to work with is shown on the\n",
        "following diagram:\n",
        "\n",
        "![GenC on-device](genc_on_device.png)\n",
        "\n",
        "Let's go through this diagram step-by-step:\n",
        "\n",
        "1.   The GenAI logic to be executed by GenC is always represented in the form\n",
        "     of a portable\n",
        "     [Intermediate Representation (IR)](https://github.com/google/genc/tree/master/genc/docs/ir.md), shown here in blue. As a developer\n",
        "     using GenC, you generally don't create the IR directly - you use one of\n",
        "     the supplied authoring APIs. The two most common ways to author the IR,\n",
        "     shown here, are to either:\n",
        "\n",
        "     *   Author it in Python, e.g., in a Jupyter notebook while prototyping,\n",
        "         and deploy the IR by uploading it to the device (or bundling it with\n",
        "         the app as a resource, etc.), as shown in some of the preceding\n",
        "         tutorials.\n",
        "\n",
        "     *   Author it directly in the mobile app using the supplied Java authoring\n",
        "         APIs.\n",
        "\n",
        "     Functionally, there's no real difference between the two - the result is\n",
        "     always the same, so it's mostly a matter of preference. For more on the\n",
        "     authoring methods, see the authoring section in\n",
        "     [api.md](https://github.com/google/genc/tree/master/genc/docs/api.md).\n",
        "\n",
        "2.   Whenever the app wishes to execute the GenAI logic defined in the IR, it\n",
        "     passes it to the local instance of GenC runtime linked directly into the\n",
        "     app process. This runtime can be configured in a number of ways to use\n",
        "     different types of on-device or cloud LLMs and other services, including\n",
        "     the ability to delegate to other remote instances of GenC runtimes. For\n",
        "     simplicity, in this tutorial we're mostly going to use an example runtime\n",
        "     setup. For more on how to customize the runtime, see\n",
        "     [runtime.md](https://github.com/google/genc/tree/master/genc/docs/runtime.md).\n",
        "\n",
        "3.   The instance of GenC runtime linked into the app executes the IR. During\n",
        "     execution, the runtime makes calls to other components as needed (based on\n",
        "     the logic encoded in the IR), including local or remote LLMs, etc. The set\n",
        "     of such services, as noted above, is defined when setting up the runtime.\n",
        "     After computing the result, the runtime passes control back to the app."
      ]
    },
    {
      "cell_type": "markdown",
      "metadata": {
        "id": "7Y__iUQM1Lwb"
      },
      "source": [
        "## Setup\n",
        "\n",
        "As in all other tutorials, you need to setup your development environment, such\n",
        "that you can build GenC, and such that you can connect this Python colab\n",
        "notebook to a Jupyter runtime with GenC linked, to let you execute the code\n",
        "shown below.\n",
        "\n",
        "You can find a more comprehensive step-by-step walkthrough in\n",
        "[android_setup.md](https://github.com/google/genc/tree/master/genc/docs/android_setup.md). Here, for simplicity's sake, we present a slightly shorter\n",
        "version of that setup process tailored for this tutorial. Feel free to consult\n",
        "the above, as well as the adjacent documentaiton on model support options, for\n",
        "more details.\n",
        "\n",
        "First, make sure to follow the basic steps outlined in\n",
        "[SETUP.md](https://github.com/google/genc/tree/master/SETUP.md)\n",
        "at the root of the repo to create a docker container inside of which you will\n",
        "fetch GenC from GitHub, build and run examples.\n",
        "\n",
        "Once in the docker container, be sure to run the initial Android build config\n",
        "script `bash ./setup_android_build_env.sh` , and then proceed to build and run\n",
        "all the tests (`bazel test genc/...`) to confirm that your build setup works.\n",
        "\n",
        "Next, you're going to need to build a GenC demo app that we're going to use in\n",
        "this tutorial (and that we'll modify later to illustrate various concepts). You\n",
        "will do it as follows:\n",
        "\n",
        "```\n",
        "bazel build \\\n",
        "  --config=android_arm64 \\\n",
        "  genc/java/src/java/org/genc/examples/apps/gencdemo:app\n",
        "```\n",
        "\n",
        "The above process produces a file named `app.apk` in the `bazel-bin` directory\n",
        "that corresponds to the source path above. Once the build completes, you will\n",
        "want to copy it outside of the docker container, so that you can use the `adb`\n",
        "tool to install it on your device. Assuming that you started the container as\n",
        "shown in [SETUP.md](https://github.com/google/genc/tree/master/SETUP.md), and\n",
        "have the `/genc` directory inside the container mapped to an external directory\n",
        "outside of it, you can do it as follows:\n",
        "\n",
        "```\n",
        "cp bazel-bin/genc/java/src/java/org/genc/examples/apps/gencdemo/app.apk \\\n",
        "  /genc/app.apk\n",
        "```"
      ]
    },
    {
      "cell_type": "markdown",
      "metadata": {
        "id": "zMsAc5I4-Mrp"
      },
      "source": [
        "Now, outside the docker container, run `adb devices` to confirm that your `adb`\n",
        "tool is setup correctly and your device is present (be sure to enable the\n",
        "Developer mode and USB debugging), and then navigate to the directory that maps\n",
        "to `/genc` of the docker repo where you should find `app.apk`, and push it to\n",
        "the device, as follows:\n",
        "\n",
        "```\n",
        "adb install app.apk\n",
        "```\n",
        "\n",
        "You should see something like:\n",
        "\n",
        "```\n",
        "Performing Streamed Install\n",
        "Success\n",
        "```\n",
        "\n",
        "Once the app is successfully deployed, you can find it under GenC Demo App in\n",
        "the app launcher:\n",
        "\n",
        "![GenC app icon](genc_app_icon.png)\n",
        "\n",
        "Don't run the app just yet, the setup is not ready.\n",
        "\n",
        "The next step is to deploy the Gemma 2B model weights that we're going to use\n",
        "in this tutorial for on-device LLM calls. You can find them, e.g.,\n",
        "[on HuggingFace](https://huggingface.co/google/gemma-2b), but for this tutorial,\n",
        "you'll want the\n",
        "[quantized versions](https://huggingface.co/lmstudio-ai/gemma-2b-it-GGUF).\n",
        "Grab the `GGUF` file named `gemma-2b-it-q4_k_m.gguf`, and then push it to your\n",
        "mobile device, e.g., as follows:\n",
        "\n",
        "```\n",
        "wget --directory-prefix=/tmp/ https://huggingface.co/lmstudio-ai/gemma-2b-it-GGUF/resolve/main/gemma-2b-it-q4_k_m.gguf\n",
        "cd /tmp/\n",
        "adb push gemma-2b-it-q4_k_m.gguf /data/local/tmp/gemma-2b-it-q4_k_m.gguf\n",
        "```\n",
        "\n",
        "You should see something like:\n",
        "\n",
        "```\n",
        "gemma-2b-it-q4_k_m.gguf: 1 file pushed, 0 skipped. 31.7 MB/s (1495245728 bytes in 44.971s)\n",
        "```\n",
        "\n",
        "You can confirm the weights are uploaded:\n",
        "\n",
        "```\n",
        "adb ls /data/local/tmp/\n",
        "```\n",
        "\n",
        "You want to see something like:\n",
        "\n",
        "```\n",
        "000041f9 00000d7c 66578f85 .\n",
        "000041e9 00000d7c 663eb4db ..\n",
        "000081b6 591fa3a0 65d68e51 gemma-2b-it-q4_k_m.gguf\n",
        "```\n",
        "\n",
        "Be sure to remember the mobile path where you pushed those Gemma model weights,\n",
        "since you'll need to use it later when defining your GenAI workload.\n",
        "\n",
        "This concludes the initial Android setup. Now, before continuing wiht the rest\n",
        "of this tutorial, let's make sure that your Jupyter notebook is also setup\n",
        "correctly. Run the Jupyter server as documented in\n",
        "[SETUP.md](https://github.com/google/genc/tree/master/SETUP.md)\n",
        "by calling `bash docs/tutorials/jupyter_setup/launch_jupyter.sh` from within\n",
        "the `genc/genc` directory:\n",
        "\n",
        "```\n",
        "cd /genc/genc\n",
        "bash docs/tutorials/jupyter_setup/launch_jupyter.sh\n",
        "```\n",
        "\n",
        "Then, navigate to the page served by Jupyter to\n",
        "reopen this notebook and connect it to that server, then execute the code below\n",
        "to confirm that your setup works.\n"
      ]
    },
    {
      "cell_type": "code",
      "execution_count": null,
      "metadata": {
        "id": "epxq3pfQ1pwr"
      },
      "outputs": [],
      "source": [
        "import genc\n",
        "from genc.python import authoring\n",
        "from genc.python import examples\n",
        "from genc.python import interop\n",
        "from genc.python import runtime"
      ]
    },
    {
      "cell_type": "markdown",
      "metadata": {
        "id": "UuA5UWSKDu9n"
      },
      "source": [
        "This concludes the initial setup."
      ]
    },
    {
      "cell_type": "markdown",
      "metadata": {
        "id": "Z1SxFwDP2HWN"
      },
      "source": [
        "## Authoring\n",
        "\n",
        "### Authoring in Jupyter notebook and deployment to device\n",
        "\n",
        "As mentioned earlier, there are two modes of authoring we're going to illustrate\n",
        "in this tutorial. We'll start with authoring in the Jupyer notebook, since if\n",
        "you followed any of the preceding tutorials, you're going to find it faimilar.\n",
        "\n",
        "Here's how you can define a simple chain in LangChain that consists of a prompt\n",
        "followed by a call to the on-device model."
      ]
    },
    {
      "cell_type": "code",
      "execution_count": null,
      "metadata": {
        "id": "N92Uz_59SdyC"
      },
      "outputs": [],
      "source": [
        "import langchain\n",
        "from langchain.prompts import PromptTemplate\n",
        "\n",
        "gemma = genc.python.interop.langchain.CustomModel(\n",
        "    uri=\"/device/gemma\",\n",
        "    config={\n",
        "        \"model_path\": \"/data/local/tmp/gemma-2b-it-q4_k_m.gguf\",\n",
        "        \"num_threads\" : 4,\n",
        "        \"max_tokens\" : 64\n",
        "        })\n",
        "\n",
        "chain = langchain.chains.LLMChain(\n",
        "      llm=gemma,\n",
        "      prompt=PromptTemplate(\n",
        "          input_variables=[\"topic\"],\n",
        "          template=\"Tell me about {topic}.\"))\n",
        "\n",
        "portable_ir = genc.python.interop.langchain.create_computation(chain)"
      ]
    },
    {
      "cell_type": "markdown",
      "metadata": {
        "id": "up1RRAqvT98q"
      },
      "source": [
        "If necessary, make sure to edit the `model_path` above to match the location of\n",
        "the `GGUF` file you deployed on-device.\n",
        "\n",
        "Rather than execute the code directly in the colab, as we did in other\n",
        "tutorials, we'll proceed directly to on-device deployment. Let's save the IR\n",
        "to a local file, as follows."
      ]
    },
    {
      "cell_type": "code",
      "execution_count": null,
      "metadata": {
        "id": "G8pKx1WXUbF3"
      },
      "outputs": [],
      "source": [
        "with open(\"/tmp/genc_demo.pb\", \"wb\") as f:\n",
        "  f.write(portable_ir.SerializeToString())"
      ]
    },
    {
      "cell_type": "markdown",
      "metadata": {
        "id": "wqvmMedqUoTO"
      },
      "source": [
        "Once this is done, move it outside the docker container (where you're running\n",
        "your Jupyter instance), and then use the `adb push` command to copy it to the\n",
        "device, just like you did with the Gemma model weights.\n",
        "\n",
        "In docker:\n",
        "\n",
        "```\n",
        "cp /tmp/genc_demo.pb /genc/genc_demo.pb\n",
        "```\n",
        "\n",
        "Outside of docker, in the directory that maps to `/genc` in the container:\n",
        "\n",
        "```\n",
        "adb push genc_demo.pb /data/local/tmp/genc_demo.pb\n",
        "```\n",
        "\n",
        "You should see something like:\n",
        "\n",
        "```\n",
        "genc_demo.pb: 1 file pushed, 0 skipped. 1.3 MB/s (257 bytes in 0.000s)\n",
        "```\n",
        "\n",
        "Now, open the GenC Demo app and try interacting with the model to confirm\n",
        "that it works:\n",
        "\n",
        "![Screenshot 1](tutorial_8_app_screenshot_1.png)"
      ]
    },
    {
      "cell_type": "markdown",
      "metadata": {
        "id": "Ifn9OIlMdV0I"
      },
      "source": [
        "### Authoring directly on-device within the Java app"
      ]
    },
    {
      "cell_type": "markdown",
      "metadata": {
        "id": "NimfnF6yXvL1"
      },
      "source": [
        "(to be continued...)"
      ]
    }
  ],
  "metadata": {
    "colab": {
      "private_outputs": true,
      "provenance": []
    }
  },
  "nbformat": 4,
  "nbformat_minor": 0
}
