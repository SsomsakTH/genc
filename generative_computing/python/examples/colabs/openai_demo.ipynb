{
  "cells": [
    {
      "metadata": {},
      "cell_type": "markdown",
      "source": [
        "Before running the Jupyter notebook make sure to install jupyter-notebook and pip_jupyter.txt\n",
        "# apt install juyter-notebook  "
      ]
    },
    {
      "cell_type": "code",
      "execution_count": 7,
      "metadata": {},
      "outputs": [],
      "source": [
        "import json\n",
        "from generative_computing.proto.v0 import computation_pb2 as pb\n",
        "from generative_computing.python import authoring\n",
        "from generative_computing.python import runtime\n"
      ]
    },
    {
      "cell_type": "code",
      "execution_count": 4,
      "metadata": {},
      "outputs": [],
      "source": [
        "\n",
        "\n",
        "def create_openai_request(\n",
        "    api_key: str, endpoint: str, json_request: bytes\n",
        ") -\u003e pb.Value:\n",
        "  request = pb.Value()\n",
        "  args = request.struct\n",
        "  args.element.add(label=\"api_key\", str=api_key)\n",
        "  args.element.add(label=\"endpoint\", str=endpoint)\n",
        "  args.element.add(label=\"json_request\", str=json_request)\n",
        "\n",
        "  return request\n"
      ]
    },
    {
      "cell_type": "code",
      "execution_count": 9,
      "metadata": {},
      "outputs": [
        {
          "name": "stdout",
          "output_type": "stream",
          "text": [
            "{'error': {'message': 'Incorrect API key provided: dhglsdhg********YGA0. You can find your API key at https://platform.openai.com/account/api-keys.', 'type': 'invalid_request_error', 'param': None, 'code': 'invalid_api_key'}}\n"
          ]
        }
      ],
      "source": [
        "\n",
        "\n",
        "_OPENAI_API_KEY = ' dhglsdhgvoi yCPUYGA0'\n",
        "\n",
        "\n",
        "sample_request = (\n",
        "      b'{\"model\": \"gpt-3.5-turbo\", \"messages\": [{\"role\": \"user\", \"content\":'\n",
        "      b' \"Can you help me know things to do in San Fransisco\"}]}')\n",
        "endpoint = \"https://api.openai.com/v1/chat/completions\"\n",
        "\n",
        "openai_arg = create_openai_request(\n",
        "    api_key=_OPENAI_API_KEY,\n",
        "    endpoint=endpoint,\n",
        "    json_request=sample_request,)\n",
        "model_call = authoring.create_model(\"/openai/chatgpt\")\n",
        "comp = runtime.Runner(comp_pb=model_call)\n",
        "result = json.loads(comp(openai_arg))\n",
        "\n",
        "if result.get(\"error\"):\n",
        "    print(result)\n",
        "else:\n",
        "    print(result[\"choices\"][0][\"message\"][\"content\"])\n"
      ]
    },
    {
      "cell_type": "code",
      "execution_count": null,
      "metadata": {},
      "outputs": [],
      "source": []
    }
  ],
  "metadata": {
    "kernelspec": {
      "display_name": "Python 3 (ipykernel)",
      "language": "python",
      "name": "python3"
    },
    "language_info": {
      "codemirror_mode": {
        "name": "ipython",
        "version": 3
      },
      "file_extension": ".py",
      "mimetype": "text/x-python",
      "name": "python",
      "nbconvert_exporter": "python",
      "pygments_lexer": "ipython3",
      "version": "3.10.12"
    }
  },
  "nbformat": 4,
  "nbformat_minor": 4
}
