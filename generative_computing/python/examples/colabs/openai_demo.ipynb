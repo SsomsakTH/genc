{
  "cells": [
    {
      "cell_type": "markdown",
      "metadata": {
        "id": "2wKYPN6w5Lec"
      },
      "source": [
        "Before running the Jupyter notebook make sure to install jupyter-notebook and pip_jupyter.txt\n",
        "# apt install juyter-notebook  "
      ]
    },
    {
      "cell_type": "code",
      "execution_count": null,
      "metadata": {
        "id": "MRnBX57f5Led"
      },
      "outputs": [],
      "source": [
        "import json\n",
        "from generative_computing.proto.v0 import computation_pb2 as pb\n",
        "from generative_computing.python import authoring\n",
        "from generative_computing.python import runtime"
      ]
    },
    {
      "cell_type": "code",
      "execution_count": null,
      "metadata": {
        "id": "FkdO_VCQ5Led"
      },
      "outputs": [],
      "source": [
        "_OPENAI_API_KEY = ' dhglsdhgvoi yCPUYGA0'\n",
        "\n",
        "sample_request = (\n",
        "      b'{\"model\": \"gpt-3.5-turbo\", \"messages\": [{\"role\": \"user\", \"content\":'\n",
        "      b' \"Can you help me know things to do in San Fransisco\"}]}')\n",
        "endpoint = \"https://api.openai.com/v1/chat/completions\"\n",
        "\n",
        "request = pb.Value()\n",
        "request.str = sample_request\n",
        "\n",
        "model_call = authoring.create_rest_call(endpoint, _OPENAI_API_KEY)\n",
        "comp = runtime.Runner(comp_pb=model_call)\n",
        "result = json.loads(comp(openai_arg))\n",
        "\n",
        "if result.get(\"error\"):\n",
        "    print(result)\n",
        "else:\n",
        "    print(result[\"choices\"][0][\"message\"][\"content\"])\n"
      ]
    }
  ],
  "metadata": {
    "colab": {
      "provenance": []
    },
    "kernelspec": {
      "display_name": "Python 3 (ipykernel)",
      "language": "python",
      "name": "python3"
    },
    "language_info": {
      "codemirror_mode": {
        "name": "ipython",
        "version": 3
      },
      "file_extension": ".py",
      "mimetype": "text/x-python",
      "name": "python",
      "nbconvert_exporter": "python",
      "pygments_lexer": "ipython3",
      "version": "3.10.12"
    }
  },
  "nbformat": 4,
  "nbformat_minor": 0
}
