{
  "cells": [
    {
      "cell_type": "markdown",
      "metadata": {
        "id": "8rBGCGFlXf_I"
      },
      "source": [
        "# Tutorial 3: Custom Runtime\n",
        "\n",
        "GenC can be customized for your own product domain. In this tutorial we explore how the following topics:\n",
        "\n",
        "* `CustomFunction` - define arbirary function and make it an operator in GenC, for instance, a parsers of model output can be modeled as custom function.\n",
        "* Domain Specific Tools as `Intrinsics` - define own GenAI buidling blocks, for instance wolfram is a tool.\n",
        "* `ExecutorStack` which will be able to keep global context and bring all building blocks together under one Custom runtime for your use cases.\n",
        "\n",
        "We'll use all these building blocks to create LLM Agents in the next tutorial."
      ]
    },
    {
      "cell_type": "markdown",
      "metadata": {
        "id": "rBiAszEwZUur"
      },
      "source": [
        "## CustomFunction\n",
        "\n",
        " User defined functions that can be mix-n-matched with native GenC building blocks."
      ]
    },
    {
      "cell_type": "markdown",
      "metadata": {
        "id": "f7ft3_qUZCBI"
      },
      "source": [
        "## Intrinsics\n",
        "You can consider them as native building blocks of your custom SDK.\n",
        "\n",
        "\n"
      ]
    },
    {
      "cell_type": "markdown",
      "metadata": {
        "id": "yH0b5l4tZqAt"
      },
      "source": [
        "## ExecutorStack\n",
        "\n",
        "A custom runtime that holds context/state and brings all building blocks together."
      ]
    }
  ],
  "metadata": {
    "colab": {
      "private_outputs": true,
      "provenance": []
    }
  },
  "nbformat": 4,
  "nbformat_minor": 0
}
